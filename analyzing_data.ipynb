{
 "cells": [
  {
   "cell_type": "markdown",
   "id": "cb1fdce8",
   "metadata": {},
   "source": [
    "# 📘 Analyzing Data with Pandas and Visualizing Results with Matplotlib\n",
    "Author: FRANC PAUL APIYO\n",
    "\n",
    "This notebook demonstrates how to:\n",
    "- Load and explore the **Iris dataset** using Pandas\n",
    "- Perform basic data analysis\n",
    "- Create visualizations using Matplotlib & Seaborn\n"
   ]
  },
  {
   "cell_type": "code",
   "execution_count": null,
   "id": "ba95c9bb",
   "metadata": {},
   "outputs": [],
   "source": []
  },
  {
   "cell_type": "code",
   "execution_count": null,
   "id": "5411dbd1",
   "metadata": {},
   "outputs": [],
   "source": [
    "\n",
    "import pandas as pd\n",
    "import matplotlib.pyplot as plt\n",
    "import seaborn as sns\n",
    "from sklearn.datasets import load_iris\n"
   ]
  },
  {
   "cell_type": "markdown",
   "id": "1c2caff1",
   "metadata": {},
   "source": [
    "## Task 1: Load and Explore the Dataset"
   ]
  },
  {
   "cell_type": "code",
   "execution_count": null,
   "id": "d0fba7be",
   "metadata": {},
   "outputs": [],
   "source": [
    "\n",
    "# Load Iris dataset from sklearn\n",
    "iris = load_iris(as_frame=True)\n",
    "df = iris.frame\n",
    "\n",
    "# Inspect first few rows\n",
    "df.head()\n"
   ]
  },
  {
   "cell_type": "code",
   "execution_count": null,
   "id": "916c3d85",
   "metadata": {},
   "outputs": [],
   "source": [
    "\n",
    "# Dataset info\n",
    "df.info()\n"
   ]
  },
  {
   "cell_type": "code",
   "execution_count": null,
   "id": "a4c2c63f",
   "metadata": {},
   "outputs": [],
   "source": [
    "\n",
    "# Check for missing values\n",
    "df.isnull().sum()\n"
   ]
  },
  {
   "cell_type": "markdown",
   "id": "3001ced0",
   "metadata": {},
   "source": [
    "## Task 2: Basic Data Analysis"
   ]
  },
  {
   "cell_type": "code",
   "execution_count": null,
   "id": "f755af1e",
   "metadata": {},
   "outputs": [],
   "source": [
    "\n",
    "# Basic statistics\n",
    "df.describe()\n"
   ]
  },
  {
   "cell_type": "code",
   "execution_count": null,
   "id": "f135452e",
   "metadata": {},
   "outputs": [],
   "source": [
    "\n",
    "# Group by target (species)\n",
    "grouped = df.groupby(\"target\").mean()\n",
    "grouped\n"
   ]
  },
  {
   "cell_type": "code",
   "execution_count": null,
   "id": "6ab8bff4",
   "metadata": {},
   "outputs": [],
   "source": [
    "\n",
    "# Map species names\n",
    "df[\"species\"] = df[\"target\"].map(dict(zip(range(3), iris.target_names)))\n",
    "\n",
    "df.head()\n"
   ]
  },
  {
   "cell_type": "markdown",
   "id": "2da5e5c8",
   "metadata": {},
   "source": [
    "## Task 3: Data Visualization"
   ]
  },
  {
   "cell_type": "code",
   "execution_count": null,
   "id": "f0cc2a8b",
   "metadata": {},
   "outputs": [],
   "source": [
    "\n",
    "sns.set(style=\"whitegrid\")\n",
    "\n",
    "# 1. Line chart - sepal length trend\n",
    "plt.figure(figsize=(8,5))\n",
    "plt.plot(df.index, df[\"sepal length (cm)\"], label=\"Sepal Length\", color=\"blue\")\n",
    "plt.title(\"Sepal Length Trend Across Samples\")\n",
    "plt.xlabel(\"Sample Index\")\n",
    "plt.ylabel(\"Sepal Length (cm)\")\n",
    "plt.legend()\n",
    "plt.show()\n"
   ]
  },
  {
   "cell_type": "code",
   "execution_count": null,
   "id": "e7b7dc10",
   "metadata": {},
   "outputs": [],
   "source": [
    "\n",
    "# 2. Bar chart - average petal length per species\n",
    "plt.figure(figsize=(8,5))\n",
    "sns.barplot(x=\"species\", y=\"petal length (cm)\", data=df, ci=None, palette=\"muted\")\n",
    "plt.title(\"Average Petal Length per Species\")\n",
    "plt.xlabel(\"Species\")\n",
    "plt.ylabel(\"Petal Length (cm)\")\n",
    "plt.show()\n"
   ]
  },
  {
   "cell_type": "code",
   "execution_count": null,
   "id": "809ba534",
   "metadata": {},
   "outputs": [],
   "source": [
    "\n",
    "# 3. Histogram - distribution of sepal width\n",
    "plt.figure(figsize=(8,5))\n",
    "plt.hist(df[\"sepal width (cm)\"], bins=15, color=\"green\", alpha=0.7, edgecolor=\"black\")\n",
    "plt.title(\"Distribution of Sepal Width\")\n",
    "plt.xlabel(\"Sepal Width (cm)\")\n",
    "plt.ylabel(\"Frequency\")\n",
    "plt.show()\n"
   ]
  },
  {
   "cell_type": "code",
   "execution_count": null,
   "id": "ec1c6542",
   "metadata": {},
   "outputs": [],
   "source": [
    "\n",
    "# 4. Scatter plot - sepal length vs petal length\n",
    "plt.figure(figsize=(8,5))\n",
    "sns.scatterplot(x=\"sepal length (cm)\", y=\"petal length (cm)\", hue=\"species\", data=df, palette=\"deep\")\n",
    "plt.title(\"Sepal Length vs Petal Length by Species\")\n",
    "plt.xlabel(\"Sepal Length (cm)\")\n",
    "plt.ylabel(\"Petal Length (cm)\")\n",
    "plt.legend(title=\"Species\")\n",
    "plt.show()\n"
   ]
  },
  {
   "cell_type": "markdown",
   "id": "fe87fb86",
   "metadata": {},
   "source": [
    "## Findings and Observations\n",
    "- Petal dimensions strongly distinguish Setosa from the other two species.\n",
    "- Versicolor and Virginica overlap somewhat but still show distinct trends.\n",
    "- Sepal width distribution is more spread out than sepal length.\n"
   ]
  }
 ],
 "metadata": {
  "language_info": {
   "name": "python"
  }
 },
 "nbformat": 4,
 "nbformat_minor": 5
}
